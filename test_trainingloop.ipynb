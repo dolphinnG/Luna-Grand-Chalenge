{
 "cells": [
  {
   "cell_type": "code",
   "execution_count": 1,
   "metadata": {},
   "outputs": [],
   "source": [
    "import torch\n",
    "from  torch.utils.data import DataLoader"
   ]
  },
  {
   "cell_type": "code",
   "execution_count": null,
   "metadata": {},
   "outputs": [],
   "source": [
    "    \n",
    "\n",
    "from dsetsG import LunaDataset, LunaDataset_Train, LunaDataset_Val\n",
    "from test.model import LunaModel\n",
    "\n",
    "\n",
    "class TrainingLoop:\n",
    "    def __init__(self, model, optimizer, loss_fn, train_loader, val_loader):\n",
    "        self.model = model\n",
    "        self.optimizer = optimizer\n",
    "        self.loss_fn = loss_fn\n",
    "        self.train_loader = train_loader\n",
    "        self.val_loader = val_loader\n",
    "\n",
    "    def train(self, epochs):\n",
    "        for epoch in range(epochs):\n",
    "            self.model.train()\n",
    "            for batch in self.train_loader:\n",
    "                self.optimizer.zero_grad()\n",
    "                x, y = batch\n",
    "                y_pred = self.model(x)\n",
    "                loss = self.loss_fn(y_pred, y)\n",
    "                loss.backward()\n",
    "                self.optimizer.step()\n",
    "\n",
    "            self.model.eval()\n",
    "            with torch.no_grad():\n",
    "                val_loss = sum(self.loss_fn(self.model(x), y) for x, y in self.val_loader)\n",
    "            print(f\"Epoch {epoch}, val_loss: {val_loss}\")\n",
    "            \n",
    "def build_training_loop():\n",
    "    model = LunaModel()\n",
    "    optimizer = torch.optim.SGD(model.parameters(), lr=1e-3)\n",
    "    loss_fn = torch.nn.CrossEntropyLoss()\n",
    "    batch_size = 64\n",
    "    num_workers = 4\n",
    "    # dataset = LunaDataset()\n",
    "    trainset = LunaDataset_Train()\n",
    "    valset = LunaDataset_Val()\n",
    "    # dataloader = DataLoader(dataset, batch_size=batch_size, num_workers=num_workers)\n",
    "    train_loader = DataLoader(trainset, batch_size=batch_size, num_workers=num_workers)\n",
    "    val_loader = DataLoader(valset, batch_size=batch_size, num_workers=num_workers)\n",
    "    return TrainingLoop(model, optimizer, loss_fn, train_loader, val_loader)\n",
    "def run_training_loop(training_loop, epochs):\n",
    "    training_loop.train(epochs)"
   ]
  }
 ],
 "metadata": {
  "kernelspec": {
   "display_name": ".venv",
   "language": "python",
   "name": "python3"
  },
  "language_info": {
   "codemirror_mode": {
    "name": "ipython",
    "version": 3
   },
   "file_extension": ".py",
   "mimetype": "text/x-python",
   "name": "python",
   "nbconvert_exporter": "python",
   "pygments_lexer": "ipython3",
   "version": "3.11.9"
  }
 },
 "nbformat": 4,
 "nbformat_minor": 2
}
